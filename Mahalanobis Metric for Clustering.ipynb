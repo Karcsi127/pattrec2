{
 "cells": [
  {
   "cell_type": "code",
   "execution_count": 1,
   "metadata": {},
   "outputs": [],
   "source": [
    "import metric_learn.mmc as Mahalanobis\n",
    "from scipy.io import loadmat\n",
    "from sklearn.neighbors import NearestNeighbors\n",
    "from sklearn.decomposition import PCA\n",
    "import numpy as np"
   ]
  },
  {
   "cell_type": "code",
   "execution_count": 2,
   "metadata": {},
   "outputs": [],
   "source": [
    "# Load all of the saved files\n",
    "train_feat = np.loadtxt('train_feat.gzip', dtype = 'float')\n",
    "gallery_feat = np.loadtxt('gallery_feat.gzip', dtype = 'float')\n",
    "query_feat = np.loadtxt('query_feat.gzip', dtype = 'float')\n",
    "val_feat = np.loadtxt('val_feat.gzip', dtype = 'float')\n",
    "train_noval_feat = np.loadtxt('train_noval_feat.gzip', dtype = 'float')\n",
    "train_labels = np.loadtxt('train_labels.gzip', dtype = 'uint16')\n",
    "gallery_labels = np.loadtxt('gallery_labels.gzip', dtype = 'uint16')\n",
    "query_labels = np.loadtxt('query_labels.gzip', dtype = 'uint16')\n",
    "val_labels = np.loadtxt('val_labels.gzip', dtype = 'uint16')\n",
    "train_noval_labels = np.loadtxt('train_noval_labels.gzip', dtype = 'uint16')\n",
    "#train_filelist = np.loadtxt('train_filelist.gzip', dtype = 'uint16')\n",
    "#gallery_filelist = np.loadtxt('gallery_filelist.gzip', dtype = 'uint16')\n",
    "#query_filelist = np.loadtxt('query_filelist.gzip', dtype = 'uint16')\n",
    "#val_filelist = np.loadtxt('val_filelist.gzip', dtype = 'uint16')\n",
    "#train_noval_filelist = np.loadtxt('train_noval_filelist.gzip', dtype = 'uint16')\n",
    "train_camId = np.loadtxt('train_camId.gzip', dtype = 'uint16') # uint8\n",
    "gallery_camId = np.loadtxt('gallery_camId.gzip', dtype = 'uint16')\n",
    "query_camId = np.loadtxt('query_camId.gzip', dtype = 'uint16')\n",
    "val_camId = np.loadtxt('val_camId.gzip', dtype = 'uint16')\n",
    "train_noval_camId = np.loadtxt('train_noval_camId.gzip', dtype = 'uint16')"
   ]
  },
  {
   "cell_type": "code",
   "execution_count": 3,
   "metadata": {},
   "outputs": [],
   "source": [
    "#DO PCA\n",
    "train_noval_feat_reduced = PCA(n_components=5).fit_transform(train_noval_feat)"
   ]
  },
  {
   "cell_type": "code",
   "execution_count": null,
   "metadata": {},
   "outputs": [],
   "source": [
    "A_Maha = Mahalanobis.MMC_Supervised(verbose=True).fit(train_noval_feat_reduced,train_noval_labels)"
   ]
  },
  {
   "cell_type": "code",
   "execution_count": null,
   "metadata": {},
   "outputs": [],
   "source": []
  },
  {
   "cell_type": "code",
   "execution_count": null,
   "metadata": {},
   "outputs": [],
   "source": []
  }
 ],
 "metadata": {
  "kernelspec": {
   "display_name": "Python 3",
   "language": "python",
   "name": "python3"
  },
  "language_info": {
   "codemirror_mode": {
    "name": "ipython",
    "version": 3
   },
   "file_extension": ".py",
   "mimetype": "text/x-python",
   "name": "python",
   "nbconvert_exporter": "python",
   "pygments_lexer": "ipython3",
   "version": "3.7.0"
  }
 },
 "nbformat": 4,
 "nbformat_minor": 2
}
