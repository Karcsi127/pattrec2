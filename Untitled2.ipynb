{
 "cells": [
  {
   "cell_type": "code",
   "execution_count": null,
   "metadata": {},
   "outputs": [],
   "source": [
    "# Kmeans clustering\n",
    "\n",
    "kmeans = KMeans(n_clusters=((np.unique(gallery_labels)).shape[0]), n_init=1, max_iter=10, random_state=0, precompute_distances= True).fit(gallery_feat)\n",
    "k_means_predictions = kmeans.predict(query_feat)\n",
    "\n",
    "print (gallery_labels, kmeans.labels_)\n",
    "print (gallery_labels.shape, kmeans.labels_.shape)\n",
    "\n",
    "\n",
    "#    print (i)\n",
    "#    print (k_means_predictions[i], query_labels[i])\n",
    "#accuracy = (np.sum(k_means_predictions == query_labels))/(query_labels.shape[0])\n",
    "#print (accuracy)\n",
    "#print(k_means_predictions, k_means_predictions.shape, query_labels, query_labels.shape)\n",
    "\n",
    "#for i in range (0, query_labels.shape[0], 1):\n",
    "#    k_means_predictions[i] = kmeans.predict(query_feat[i:(i+1), :])\n",
    "#    print (i)\n",
    "#    print (k_means_predictions[i], query_labels[i])\n",
    "#accuracy = (np.sum(k_means_predictions == labels))/(query_labels.shape[0])\n",
    "#print (accuracy)\n",
    "#print(k_means_predictions, k_means_predictions.shape, query_labels, query_labels.shape)"
   ]
  }
 ],
 "metadata": {
  "kernelspec": {
   "display_name": "Python 3",
   "language": "python",
   "name": "python3"
  },
  "language_info": {
   "codemirror_mode": {
    "name": "ipython",
    "version": 3
   },
   "file_extension": ".py",
   "mimetype": "text/x-python",
   "name": "python",
   "nbconvert_exporter": "python",
   "pygments_lexer": "ipython3",
   "version": "3.6.6"
  }
 },
 "nbformat": 4,
 "nbformat_minor": 2
}
