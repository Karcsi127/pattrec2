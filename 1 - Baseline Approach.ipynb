{
 "cells": [
  {
   "cell_type": "code",
   "execution_count": 1,
   "metadata": {},
   "outputs": [],
   "source": [
    "import numpy as np\n",
    "from sklearn.neighbors import NearestNeighbors"
   ]
  },
  {
   "cell_type": "code",
   "execution_count": 2,
   "metadata": {},
   "outputs": [],
   "source": [
    "train_feat = np.loadtxt('train_feat.gzip', dtype = 'float')\n",
    "gallery_feat = np.loadtxt('gallery_feat.gzip', dtype = 'float')\n",
    "query_feat = np.loadtxt('query_feat.gzip', dtype = 'float')\n",
    "train_labels = np.loadtxt('train_labels.gzip', dtype = 'uint16')\n",
    "gallery_labels = np.loadtxt('gallery_labels.gzip', dtype = 'uint16')\n",
    "query_lables = np.loadtxt('query_labels.gzip', dtype = 'uint16')"
   ]
  },
  {
   "cell_type": "code",
   "execution_count": 3,
   "metadata": {},
   "outputs": [
    {
     "name": "stdout",
     "output_type": "stream",
     "text": [
      "float64 8.214414596557617\n",
      "[[1.05525982 0.29310364 0.19821346 ... 0.00684856 0.0561235  0.01862506]\n",
      " [0.98361254 0.33195475 0.26549727 ... 0.02350602 0.08491972 0.00514889]\n",
      " [0.82696682 0.39545193 0.13419056 ... 0.02507348 0.06063982 0.03505545]\n",
      " ...\n",
      " [0.01961832 0.17617127 0.54575312 ... 0.33026204 0.93925601 0.56220758]\n",
      " [0.05719076 0.60635394 0.58300596 ... 0.40994745 1.37061644 0.55975795]\n",
      " [0.07245111 0.51656747 0.59082419 ... 0.60488421 1.05610693 0.72939718]] (5328, 2048)\n",
      "[[0.94088095 0.6120016  0.19601382 ... 0.03830115 0.05461279 0.01004573]\n",
      " [1.55147386 0.35008368 0.29907167 ... 0.         0.38377187 0.10629545]\n",
      " [0.09531084 0.35792962 0.1479917  ... 0.25905719 0.34150648 0.1575031 ]\n",
      " ...\n",
      " [0.69368488 0.91065705 1.7122643  ... 0.60383898 1.46147764 0.23456964]\n",
      " [0.33765692 1.02798986 0.42934412 ... 0.32115731 1.51256549 0.3386271 ]\n",
      " [0.04796965 0.49429518 0.61193639 ... 0.74304843 1.20724857 0.66419029]] (1400, 2048)\n"
     ]
    }
   ],
   "source": [
    "print (query_feat.dtype, query_feat.max())\n",
    "print (gallery_feat, gallery_feat.shape)\n",
    "print (query_feat, query_feat.shape)"
   ]
  },
  {
   "cell_type": "code",
   "execution_count": 4,
   "metadata": {},
   "outputs": [
    {
     "name": "stdout",
     "output_type": "stream",
     "text": [
      "[[3 4 0 1 5]\n",
      " [3 0 1 4 2]]\n",
      "[[1.         2.         2.23606798 2.82842712 3.16227766]\n",
      " [1.41421356 1.41421356 2.23606798 2.23606798 3.60555128]]\n"
     ]
    }
   ],
   "source": [
    "X = np.array([[-1, -1], [-2, -1], [-3, -2], [1, 1], [2, 1], [3, 2]])\n",
    "nbrs = NearestNeighbors(n_neighbors=5, algorithm='ball_tree').fit(X)\n",
    "distances, indices = nbrs.kneighbors([[0, 1], [0,0]])\n",
    "print(indices)\n",
    "print (distances)"
   ]
  },
  {
   "cell_type": "code",
   "execution_count": 5,
   "metadata": {},
   "outputs": [
    {
     "name": "stdout",
     "output_type": "stream",
     "text": [
      "[[   1    2    0 5049 2776]\n",
      " [   5    4    6    3 1969]\n",
      " [  10    7    8    9   14]\n",
      " ...\n",
      " [5320 5317 5319 5318 5194]\n",
      " [5321 5323 5322 5327 5326]\n",
      " [5327 5326 5324 5325 5323]] (1400, 5)\n",
      "[[ 6.09014114  6.14945446  7.54184004 15.60366779 16.41445879]\n",
      " [ 8.31251325  8.88552532  9.87390657 14.0570714  15.82024625]\n",
      " [ 6.906436    7.25947872  7.6402917   8.14847465 11.88007043]\n",
      " ...\n",
      " [ 6.22842337  7.20920733 10.5651047  11.62377886 14.30915442]\n",
      " [ 8.43849631  9.50885541 12.01978502 14.03768135 15.21211206]\n",
      " [ 4.91326734  8.28096591  9.0167629  11.23723619 14.29231764]] (1400, 5)\n"
     ]
    }
   ],
   "source": [
    "k = 5\n",
    "nbrs = NearestNeighbors(n_neighbors=k).fit(gallery_feat)\n",
    "distances, indices = nbrs.kneighbors(query_feat)\n",
    "print(indices, indices.shape)\n",
    "print (distances, distances.shape)"
   ]
  },
  {
   "cell_type": "code",
   "execution_count": null,
   "metadata": {},
   "outputs": [],
   "source": []
  }
 ],
 "metadata": {
  "kernelspec": {
   "display_name": "Python 3",
   "language": "python",
   "name": "python3"
  },
  "language_info": {
   "codemirror_mode": {
    "name": "ipython",
    "version": 3
   },
   "file_extension": ".py",
   "mimetype": "text/x-python",
   "name": "python",
   "nbconvert_exporter": "python",
   "pygments_lexer": "ipython3",
   "version": "3.7.0"
  }
 },
 "nbformat": 4,
 "nbformat_minor": 2
}
