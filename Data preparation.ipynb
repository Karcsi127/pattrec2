{
 "cells": [
  {
   "cell_type": "code",
   "execution_count": 1,
   "metadata": {},
   "outputs": [],
   "source": [
    "from scipy.io import loadmat\n",
    "import json\n",
    "import numpy as np\n",
    "import random\n",
    "random.seed(9999999)"
   ]
  },
  {
   "cell_type": "code",
   "execution_count": 2,
   "metadata": {},
   "outputs": [],
   "source": [
    "train_idxs = loadmat('PR_data/cuhk03_new_protocol_config_labeled.mat')['train_idx'].flatten()-1\n",
    "query_idxs = loadmat('PR_data/cuhk03_new_protocol_config_labeled.mat')['query_idx'].flatten()-1\n",
    "gallery_idxs = loadmat('PR_data/cuhk03_new_protocol_config_labeled.mat')['gallery_idx'].flatten()-1\n",
    "labels = loadmat('PR_data/cuhk03_new_protocol_config_labeled.mat')['labels'].flatten()\n",
    "camId = loadmat('PR_data/cuhk03_new_protocol_config_labeled.mat')['camId'].flatten()\n",
    "filelist = loadmat('PR_data/cuhk03_new_protocol_config_labeled.mat')['filelist'].flatten()"
   ]
  },
  {
   "cell_type": "code",
   "execution_count": 3,
   "metadata": {},
   "outputs": [],
   "source": [
    "with open('PR_data/feature_data.json','r') as f:\n",
    "    features = json.load(f)"
   ]
  },
  {
   "cell_type": "code",
   "execution_count": 4,
   "metadata": {},
   "outputs": [],
   "source": [
    "features = np.array(features) # rows: pictures, columns: features (one row contains one image)"
   ]
  },
  {
   "cell_type": "code",
   "execution_count": 5,
   "metadata": {},
   "outputs": [
    {
     "name": "stdout",
     "output_type": "stream",
     "text": [
      "(7368, 2048)\n",
      "(7368,)\n",
      "(7368,)\n",
      "(1400, 2048)\n",
      "(1400,)\n",
      "(1400,)\n",
      "(5328, 2048)\n",
      "(5328,)\n",
      "(5328,)\n"
     ]
    }
   ],
   "source": [
    "train_feat = features[train_idxs,:]\n",
    "train_labels = labels[train_idxs]\n",
    "train_camId = camId[train_idxs]\n",
    "print(train_feat.shape)\n",
    "print(train_labels.shape)\n",
    "print(train_camId.shape)\n",
    "\n",
    "query_feat = features[query_idxs,:]\n",
    "query_labels = labels[query_idxs]\n",
    "query_camId = camId[query_idxs]\n",
    "print(query_feat.shape)\n",
    "print(query_labels.shape)\n",
    "print(query_camId.shape)\n",
    "\n",
    "gallery_feat = features[gallery_idxs,:]\n",
    "gallery_labels = labels[gallery_idxs]\n",
    "gallery_camId = camId[gallery_idxs]\n",
    "print(gallery_feat.shape)\n",
    "print(gallery_labels.shape)\n",
    "print(gallery_camId.shape)"
   ]
  },
  {
   "cell_type": "code",
   "execution_count": 6,
   "metadata": {},
   "outputs": [
    {
     "name": "stdout",
     "output_type": "stream",
     "text": [
      "[ 787 1164  741  417 1346  641  169  363  168 1340  987 1437  613  809\n",
      "  814  251 1082  608  977  620  776  279  876  117  318 1462 1129  601\n",
      "   52  920  658 1115  667  992    8 1184 1180   39 1109  313  252   26\n",
      "   16  788  644  540 1237   88  538  700 1290   10  513  104  302  480\n",
      "  553 1235  811   48  395  901   83   66 1076   59  810 1050 1260   31\n",
      " 1156 1284  486   19 1196  800  199 1364 1287 1158   71   46 1386 1391\n",
      "  765  781 1374  801  712 1315 1085   93  248  154 1151 1268  978 1169\n",
      "   94  628 1289  627 1447 1396 1141   75  207  571 1024 1219 1160 1292\n",
      "  436 1210  955  330 1419 1051 1302  315 1464  263  768 1420 1337  387\n",
      "  482  986  764  588 1427  446 1167 1143  943 1040  728 1152  466  444\n",
      "  896 1000   36  353   13  226  845  295  356  676 1299  729  624 1130\n",
      "  735 1154  179 1279 1316  582 1161 1090  137 1409 1255  203 1417 1012\n",
      "  821  155  985 1351  449 1414 1381  941 1060  512  693  577 1100  629\n",
      "  354  144 1208  733  630  568  681  231  481 1306  314  443  208  500\n",
      "  501 1466  370  779  631 1176  952  177  819  439  828 1038 1430  976\n",
      "  702 1206  272  917 1403 1393 1357  209 1149  997  759 1303  516  766\n",
      "  327  472 1229 1086  861  206 1173  656 1363 1059  462  908 1429  889\n",
      "  403 1428  662  813  204 1377 1039  617   73  761 1252 1018  890 1218\n",
      " 1444  124 1282   20 1345 1460  915  928  534  580 1244 1057 1194  830\n",
      "  820  406 1308  389 1202 1297  348  724  878 1401  411  855  106  806\n",
      "  139 1072   12  393   87  604 1089 1118 1318  297 1352 1458 1055 1249\n",
      " 1413 1191 1071  380 1361  771  260 1433  311  433   65  677 1446  583\n",
      "  197 1135  458  181  737  596  414  825  910  350  498  161  432  289\n",
      " 1356   97 1045 1378   27  323 1325  483 1408 1113 1110   29   49  867\n",
      " 1320  549  412  731  572 1400  371 1245 1416   25  125   24  637  153\n",
      "  503  386  456  347   90  937  842  747  438 1015  493  116 1338 1314\n",
      " 1362 1335 1404   57  848  844  686  262  377  308  299  183  663 1304\n",
      " 1053  612  591 1239  342 1380 1080  451 1246  234  701  188  587  935\n",
      "  511 1035 1439 1083 1339  668 1212  684  355  958   56  246 1036 1146\n",
      "  642  533 1029  126  914  110  489 1253 1274  191  192  579  268   53\n",
      " 1323  122  288    2 1278  138  603  990  707  718  158 1020  961  687\n",
      "  502  334  391  618  760 1455 1203 1441  995 1453  602 1442  778  298\n",
      "  795  225  632  945  264  574  420 1177  108  565  906 1185  852  339\n",
      "  392 1172  273  431 1395   23 1399 1003  305  324 1388 1269 1410  416\n",
      "  253  984  497  847  492  815 1136   21  527 1215   18  981  286  385\n",
      "  619 1016 1231  515 1402 1294  833 1073 1272   43  900  563 1031  528\n",
      "  468  959  688 1295 1201  685 1106  201 1144 1358 1200  285 1254  659\n",
      "  405 1105 1467 1192  589   79  167  535  185  680  567 1283 1454  484\n",
      " 1383  777 1084  245  309  240    9  495 1137  709 1238  791 1281  233\n",
      "  470  428  478 1034  430 1275 1258 1001  341  857 1262 1327 1456  274\n",
      "  634 1296  774 1236  215  808  141  200 1288 1328  368  957  526  364\n",
      "  581 1341  312  283  615  734  974  277 1006  561   37  711 1092  383\n",
      " 1344  130  664   61   95 1465 1424  639  954  605  713 1211] (600,)\n",
      "5764 (7368,)\n",
      "1604 (7368,)\n",
      "(1604, 2048)\n",
      "(1604,)\n",
      "(1604,)\n",
      "(1604,)\n",
      "(5764, 2048)\n",
      "(5764,)\n",
      "(5764,)\n",
      "(5764,)\n",
      "(767,) (167,) (600,)\n"
     ]
    }
   ],
   "source": [
    "unique_id_train = np.unique(train_labels) #find all unique training IDs\n",
    "unique_id_val = unique_id_train[np.array(random.sample(range(unique_id_train.shape[0]),100))] # pick 100 random unique training IDs, random.sample does not work on numpy array \n",
    "print(unique_id_val, unique_id_val.shape)\n",
    "bool_idx_val = np.isin(train_labels, unique_id_val)\n",
    "bool_idx_train_noval = np.isin(train_labels, unique_id_val, invert=True)\n",
    "print(np.sum(bool_idx_val), bool_idx_val.shape)\n",
    "print(np.sum(bool_idx_train_noval), bool_idx_train_noval.shape)\n",
    "\n",
    "train_noval_feat = train_feat[bool_idx_train_noval,:]\n",
    "train_noval_labels = train_labels[bool_idx_train_noval]\n",
    "train_noval_camId = train_camId[bool_idx_train_noval]\n",
    "train_noval_filelist_idxs = train_idxs[bool_idx_train_noval]\n",
    "print(train_noval_feat.shape)\n",
    "print(train_noval_labels.shape)\n",
    "print(train_noval_camId.shape)\n",
    "print(train_noval_filelist_idxs.shape)\n",
    "\n",
    "val_feat = train_feat[bool_idx_val,:]\n",
    "val_labels = train_labels[bool_idx_val]\n",
    "val_camId = train_camId[bool_idx_val]\n",
    "val_filelist_idxs = train_idxs[bool_idx_val]\n",
    "print(val_feat.shape)\n",
    "print(val_labels.shape)\n",
    "print(val_camId.shape)\n",
    "print(val_filelist_idxs.shape)\n",
    "\n",
    "print(unique_id_train.shape, np.unique(train_noval_labels).shape, np.unique(val_labels).shape)"
   ]
  },
  {
   "cell_type": "code",
   "execution_count": 7,
   "metadata": {},
   "outputs": [],
   "source": [
    "np.savetxt('train_feat.gzip', train_feat)\n",
    "np.savetxt('train_labels.gzip', train_labels)\n",
    "np.savetxt('train_camId.gzip', train_camId)\n",
    "np.savetxt('query_feat.gzip', query_feat)\n",
    "np.savetxt('query_labels.gzip', query_labels)\n",
    "np.savetxt('query_camId.gzip', query_camId)\n",
    "np.savetxt('gallery_feat.gzip', gallery_feat)\n",
    "np.savetxt('gallery_labels.gzip', gallery_labels)\n",
    "np.savetxt('gallery_camId.gzip', gallery_camId)\n",
    "np.savetxt('val_feat.gzip', val_feat)\n",
    "np.savetxt('val_labels.gzip', val_labels)\n",
    "np.savetxt('val_camId.gzip', val_camId)\n",
    "np.savetxt('val_filelist_idxs.gzip', val_filelist_idxs)\n",
    "np.savetxt('train_noval_feat.gzip', train_noval_feat)\n",
    "np.savetxt('train_noval_labels.gzip', train_noval_labels)\n",
    "np.savetxt('train_noval_camId.gzip', train_noval_camId)\n",
    "np.savetxt('train_noval_filelist_idxs.gzip', train_noval_filelist_idxs)"
   ]
  },
  {
   "cell_type": "code",
   "execution_count": 8,
   "metadata": {},
   "outputs": [
    {
     "name": "stdout",
     "output_type": "stream",
     "text": [
      "(1467,)\n"
     ]
    }
   ],
   "source": [
    "print(np.unique(labels).shape)"
   ]
  },
  {
   "cell_type": "code",
   "execution_count": 11,
   "metadata": {},
   "outputs": [
    {
     "name": "stdout",
     "output_type": "stream",
     "text": [
      "[2 2 2 2 2]\n"
     ]
    }
   ],
   "source": [
    "print(camId[labels==1351])"
   ]
  },
  {
   "cell_type": "code",
   "execution_count": 12,
   "metadata": {},
   "outputs": [
    {
     "name": "stdout",
     "output_type": "stream",
     "text": [
      "3 5\n"
     ]
    }
   ],
   "source": []
  },
  {
   "cell_type": "code",
   "execution_count": null,
   "metadata": {},
   "outputs": [],
   "source": []
  }
 ],
 "metadata": {
  "kernelspec": {
   "display_name": "Python 3",
   "language": "python",
   "name": "python3"
  },
  "language_info": {
   "codemirror_mode": {
    "name": "ipython",
    "version": 3
   },
   "file_extension": ".py",
   "mimetype": "text/x-python",
   "name": "python",
   "nbconvert_exporter": "python",
   "pygments_lexer": "ipython3",
   "version": "3.7.0"
  }
 },
 "nbformat": 4,
 "nbformat_minor": 2
}
