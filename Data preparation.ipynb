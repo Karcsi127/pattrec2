{
 "cells": [
  {
   "cell_type": "code",
   "execution_count": 1,
   "metadata": {},
   "outputs": [],
   "source": [
    "from scipy.io import loadmat\n",
    "import json\n",
    "import numpy as np"
   ]
  },
  {
   "cell_type": "code",
   "execution_count": 2,
   "metadata": {},
   "outputs": [],
   "source": [
    "train_idxs = loadmat('PR_data/cuhk03_new_protocol_config_labeled.mat')['train_idx'].flatten()-1\n",
    "query_idxs = loadmat('PR_data/cuhk03_new_protocol_config_labeled.mat')['query_idx'].flatten()-1\n",
    "gallery_idxs = loadmat('PR_data/cuhk03_new_protocol_config_labeled.mat')['gallery_idx'].flatten()-1\n",
    "labels = loadmat('PR_data/cuhk03_new_protocol_config_labeled.mat')['labels'].flatten()\n",
    "camId = loadmat('PR_data/cuhk03_new_protocol_config_labeled.mat')['camId'].flatten()\n",
    "filelist = loadmat('PR_data/cuhk03_new_protocol_config_labeled.mat')['filelist'].flatten()"
   ]
  },
  {
   "cell_type": "code",
   "execution_count": 23,
   "metadata": {},
   "outputs": [
    {
     "name": "stdout",
     "output_type": "stream",
     "text": [
      "<class 'float'> 0.1379111409187317\n",
      "uint16 [    0     1     2 ... 14093 14094 14095]\n"
     ]
    }
   ],
   "source": [
    "with open('PR_data/feature_data.json','r') as f:\n",
    "    features = json.load(f) # loaded into (a list of list of) floats"
   ]
  },
  {
   "cell_type": "code",
   "execution_count": 25,
   "metadata": {},
   "outputs": [
    {
     "name": "stdout",
     "output_type": "stream",
     "text": [
      "float64\n"
     ]
    }
   ],
   "source": [
    "features = np.array(features) # rows: pictures, columns: features (one row contains one image)\n",
    "# this is a nparray of floats"
   ]
  },
  {
   "cell_type": "code",
   "execution_count": 5,
   "metadata": {},
   "outputs": [
    {
     "name": "stdout",
     "output_type": "stream",
     "text": [
      "(7368, 2048)\n",
      "(7368,)\n",
      "(1400, 2048)\n",
      "(1400,)\n",
      "(5328, 2048)\n",
      "(5328,)\n"
     ]
    }
   ],
   "source": [
    "train_feat = features[train_idxs,:]\n",
    "train_labels = labels[train_idxs]\n",
    "print(train_feat.shape)\n",
    "print(train_labels.shape)\n",
    "\n",
    "query_feat = features[query_idxs,:]\n",
    "query_labels = labels[query_idxs]\n",
    "print(query_feat.shape)\n",
    "print(query_labels.shape)\n",
    "\n",
    "gallery_feat = features[gallery_idxs,:]\n",
    "gallery_labels = labels[gallery_idxs]\n",
    "print(gallery_feat.shape)\n",
    "print(gallery_labels.shape)"
   ]
  },
  {
   "cell_type": "code",
   "execution_count": 27,
   "metadata": {},
   "outputs": [
    {
     "name": "stdout",
     "output_type": "stream",
     "text": [
      "float64 uint16\n",
      "float64 uint16\n",
      "float64 uint16\n"
     ]
    }
   ],
   "source": [
    "print (train_feat.dtype, train_labels.dtype)\n",
    "print (query_feat.dtype, query_labels.dtype)\n",
    "print (gallery_feat.dtype, gallery_labels.dtype)"
   ]
  },
  {
   "cell_type": "code",
   "execution_count": 6,
   "metadata": {},
   "outputs": [],
   "source": [
    "np.savetxt('train_feat.gzip', train_feat)\n",
    "np.savetxt('train_labels.gzip', train_labels)\n",
    "np.savetxt('query_feat.gzip', query_feat)\n",
    "np.savetxt('query_labels.gzip', query_labels)\n",
    "np.savetxt('gallery_feat.gzip', gallery_feat)\n",
    "np.savetxt('gallery_labels.gzip', gallery_labels)"
   ]
  }
 ],
 "metadata": {
  "kernelspec": {
   "display_name": "Python 3",
   "language": "python",
   "name": "python3"
  },
  "language_info": {
   "codemirror_mode": {
    "name": "ipython",
    "version": 3
   },
   "file_extension": ".py",
   "mimetype": "text/x-python",
   "name": "python",
   "nbconvert_exporter": "python",
   "pygments_lexer": "ipython3",
   "version": "3.7.0"
  }
 },
 "nbformat": 4,
 "nbformat_minor": 2
}
