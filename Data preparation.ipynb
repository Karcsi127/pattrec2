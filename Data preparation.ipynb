{
 "cells": [
  {
   "cell_type": "code",
   "execution_count": 1,
   "metadata": {},
   "outputs": [],
   "source": [
    "from scipy.io import loadmat\n",
    "import json\n",
    "import numpy as np\n",
    "import random\n",
    "random.seed(9999999)"
   ]
  },
  {
   "cell_type": "code",
   "execution_count": 2,
   "metadata": {},
   "outputs": [],
   "source": [
    "train_idxs = loadmat('PR_data/cuhk03_new_protocol_config_labeled.mat')['train_idx'].flatten()-1\n",
    "query_idxs = loadmat('PR_data/cuhk03_new_protocol_config_labeled.mat')['query_idx'].flatten()-1\n",
    "gallery_idxs = loadmat('PR_data/cuhk03_new_protocol_config_labeled.mat')['gallery_idx'].flatten()-1\n",
    "labels = loadmat('PR_data/cuhk03_new_protocol_config_labeled.mat')['labels'].flatten()\n",
    "camId = loadmat('PR_data/cuhk03_new_protocol_config_labeled.mat')['camId'].flatten()\n",
    "filelist = loadmat('PR_data/cuhk03_new_protocol_config_labeled.mat')['filelist'].flatten()"
   ]
  },
  {
   "cell_type": "code",
   "execution_count": 3,
   "metadata": {},
   "outputs": [],
   "source": [
    "with open('PR_data/feature_data.json','r') as f:\n",
    "    features = json.load(f)"
   ]
  },
  {
   "cell_type": "code",
   "execution_count": 4,
   "metadata": {},
   "outputs": [],
   "source": [
    "features = np.array(features) # rows: pictures, columns: features (one row contains one image)"
   ]
  },
  {
   "cell_type": "code",
   "execution_count": 5,
   "metadata": {},
   "outputs": [
    {
     "name": "stdout",
     "output_type": "stream",
     "text": [
      "(7368, 2048)\n",
      "(7368,)\n",
      "(7368,)\n",
      "(1400, 2048)\n",
      "(1400,)\n",
      "(1400,)\n",
      "(5328, 2048)\n",
      "(5328,)\n",
      "(5328,)\n"
     ]
    }
   ],
   "source": [
    "train_feat = features[train_idxs,:]\n",
    "train_labels = labels[train_idxs]\n",
    "train_camId = camId[train_idxs]\n",
    "print(train_feat.shape)\n",
    "print(train_labels.shape)\n",
    "print(train_camId.shape)\n",
    "\n",
    "query_feat = features[query_idxs,:]\n",
    "query_labels = labels[query_idxs]\n",
    "query_camId = camId[query_idxs]\n",
    "print(query_feat.shape)\n",
    "print(query_labels.shape)\n",
    "print(query_camId.shape)\n",
    "\n",
    "gallery_feat = features[gallery_idxs,:]\n",
    "gallery_labels = labels[gallery_idxs]\n",
    "gallery_camId = camId[gallery_idxs]\n",
    "print(gallery_feat.shape)\n",
    "print(gallery_labels.shape)\n",
    "print(gallery_camId.shape)"
   ]
  },
  {
   "cell_type": "code",
   "execution_count": 6,
   "metadata": {},
   "outputs": [
    {
     "name": "stdout",
     "output_type": "stream",
     "text": [
      "[ 788 1165  747  420 1348  642  173  364  169 1341  990 1439  615  810\n",
      "  815  252 1083  610  978  621  777  282  878  118  323 1460 1130  602\n",
      "   53  921  659 1118  668  993    9 1185 1183   43 1110  314  253   27\n",
      "   18  791  654  543 1238   90  539  701 1291   12  514  106  305  481\n",
      "  554 1236  813   49  403  906   84   67 1079   61  811 1051 1261   36\n",
      " 1157 1287  489   20 1198  801  200 1363 1288 1160   73   48 1383 1388\n",
      "  766  782 1366  803  713 1086   94  251  155 1152 1269  981 1171   95\n",
      "  629 1290] (100,)\n",
      "956 (7368,)\n",
      "6412 (7368,)\n",
      "(6412, 2048)\n",
      "(6412,)\n",
      "(6412,)\n",
      "(6412,)\n",
      "(956, 2048)\n",
      "(956,)\n",
      "(956,)\n",
      "(956,)\n",
      "(767,) (667,) (100,)\n"
     ]
    }
   ],
   "source": [
    "unique_id_train = np.unique(train_labels)\n",
    "unique_id_val = unique_id_train[np.array(random.sample(range(1,unique_id_train.shape[0]-1),100))]\n",
    "print(unique_id_val, unique_id_val.shape)\n",
    "bool_idx_val = np.isin(train_labels, unique_id_val)\n",
    "bool_idx_train_noval = np.isin(train_labels, unique_id_val, invert=True)\n",
    "print(np.sum(bool_idx_val), bool_idx_val.shape)\n",
    "print(np.sum(bool_idx_train_noval), bool_idx_train_noval.shape)\n",
    "\n",
    "train_noval_feat = train_feat[bool_idx_train_noval,:]\n",
    "train_noval_labels = train_labels[bool_idx_train_noval]\n",
    "train_noval_camId = train_camId[bool_idx_train_noval]\n",
    "train_noval_filelist_idxs = train_idxs[bool_idx_train_noval]\n",
    "print(train_noval_feat.shape)\n",
    "print(train_noval_labels.shape)\n",
    "print(train_noval_camId.shape)\n",
    "print(train_noval_filelist_idxs.shape)\n",
    "\n",
    "val_feat = train_feat[bool_idx_val,:]\n",
    "val_labels = train_labels[bool_idx_val]\n",
    "val_camId = train_camId[bool_idx_val]\n",
    "val_filelist_idxs = train_idxs[bool_idx_val]\n",
    "print(val_feat.shape)\n",
    "print(val_labels.shape)\n",
    "print(val_camId.shape)\n",
    "print(val_filelist_idxs.shape)\n",
    "\n",
    "print(unique_id_train.shape, np.unique(train_noval_labels).shape, np.unique(val_labels).shape)"
   ]
  },
  {
   "cell_type": "code",
   "execution_count": 7,
   "metadata": {},
   "outputs": [],
   "source": [
    "np.savetxt('train_feat.gzip', train_feat)\n",
    "np.savetxt('train_labels.gzip', train_labels)\n",
    "np.savetxt('train_camId.gzip', train_camId)\n",
    "np.savetxt('query_feat.gzip', query_feat)\n",
    "np.savetxt('query_labels.gzip', query_labels)\n",
    "np.savetxt('query_camId.gzip', query_camId)\n",
    "np.savetxt('gallery_feat.gzip', gallery_feat)\n",
    "np.savetxt('gallery_labels.gzip', gallery_labels)\n",
    "np.savetxt('gallery_camId.gzip', gallery_camId)\n",
    "np.savetxt('val_feat.gzip', val_feat)\n",
    "np.savetxt('val_labels.gzip', val_labels)\n",
    "np.savetxt('val_camId.gzip', val_camId)\n",
    "np.savetxt('val_filelist_idxs.gzip', val_filelist_idxs)\n",
    "np.savetxt('train_noval_feat.gzip', train_noval_feat)\n",
    "np.savetxt('train_noval_labels.gzip', train_noval_labels)\n",
    "np.savetxt('train_noval_camId.gzip', train_noval_camId)\n",
    "np.savetxt('train_noval_filelist_idxs.gzip', train_noval_filelist_idxs)"
   ]
  },
  {
   "cell_type": "code",
   "execution_count": 8,
   "metadata": {},
   "outputs": [
    {
     "name": "stdout",
     "output_type": "stream",
     "text": [
      "(1467,)\n"
     ]
    }
   ],
   "source": [
    "print(np.unique(labels).shape)"
   ]
  },
  {
   "cell_type": "code",
   "execution_count": null,
   "metadata": {},
   "outputs": [],
   "source": []
  }
 ],
 "metadata": {
  "kernelspec": {
   "display_name": "Python 3",
   "language": "python",
   "name": "python3"
  },
  "language_info": {
   "codemirror_mode": {
    "name": "ipython",
    "version": 3
   },
   "file_extension": ".py",
   "mimetype": "text/x-python",
   "name": "python",
   "nbconvert_exporter": "python",
   "pygments_lexer": "ipython3",
   "version": "3.7.0"
  }
 },
 "nbformat": 4,
 "nbformat_minor": 2
}
