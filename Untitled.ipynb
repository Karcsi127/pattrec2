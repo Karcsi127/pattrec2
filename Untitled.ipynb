{
 "cells": [
  {
   "cell_type": "code",
   "execution_count": 1,
   "metadata": {},
   "outputs": [],
   "source": [
    "import pickle\n",
    "\n",
    "pickle_in = open(\"re_ranking_train_test_split.pkl\",\"rb\")\n",
    "\n",
    "example_dict = pickle.load(pickle_in)"
   ]
  },
  {
   "cell_type": "code",
   "execution_count": 2,
   "metadata": {},
   "outputs": [
    {
     "name": "stdout",
     "output_type": "stream",
     "text": [
      "{'detected': {'train_im_names': array([b'00000000_0000_00000000.jpg', b'00000000_0000_00000001.jpg',\n",
      "       b'00000000_0000_00000002.jpg', ..., b'00001466_0001_00000002.jpg',\n",
      "       b'00001466_0001_00000003.jpg', b'00001466_0001_00000004.jpg'],\n",
      "      dtype='|S26'), 'gallery_im_names': array([b'00000002_0000_00000000.jpg', b'00000002_0000_00000002.jpg',\n",
      "       b'00000002_0000_00000003.jpg', ..., b'00001462_0001_00000001.jpg',\n",
      "       b'00001462_0001_00000003.jpg', b'00001462_0001_00000004.jpg'],\n",
      "      dtype='|S26'), 'query_im_names': array([b'00000002_0000_00000001.jpg', b'00000002_0001_00000002.jpg',\n",
      "       b'00000005_0000_00000001.jpg', ..., b'00001460_0001_00000001.jpg',\n",
      "       b'00001462_0000_00000002.jpg', b'00001462_0001_00000002.jpg'],\n",
      "      dtype='|S26')}, 'labeled': {'train_im_names': array([b'00000000_0000_00000000.jpg', b'00000000_0000_00000001.jpg',\n",
      "       b'00000000_0000_00000002.jpg', ..., b'00001466_0001_00000002.jpg',\n",
      "       b'00001466_0001_00000003.jpg', b'00001466_0001_00000004.jpg'],\n",
      "      dtype='|S26'), 'gallery_im_names': array([b'00000002_0000_00000000.jpg', b'00000002_0000_00000002.jpg',\n",
      "       b'00000002_0000_00000003.jpg', ..., b'00001462_0001_00000001.jpg',\n",
      "       b'00001462_0001_00000003.jpg', b'00001462_0001_00000004.jpg'],\n",
      "      dtype='|S26'), 'query_im_names': array([b'00000002_0000_00000001.jpg', b'00000002_0001_00000002.jpg',\n",
      "       b'00000005_0000_00000001.jpg', ..., b'00001460_0001_00000001.jpg',\n",
      "       b'00001462_0000_00000002.jpg', b'00001462_0001_00000002.jpg'],\n",
      "      dtype='|S26')}}\n"
     ]
    }
   ],
   "source": [
    "print (example_dict)"
   ]
  },
  {
   "cell_type": "code",
   "execution_count": null,
   "metadata": {},
   "outputs": [],
   "source": []
  }
 ],
 "metadata": {
  "kernelspec": {
   "display_name": "Python 3",
   "language": "python",
   "name": "python3"
  },
  "language_info": {
   "codemirror_mode": {
    "name": "ipython",
    "version": 3
   },
   "file_extension": ".py",
   "mimetype": "text/x-python",
   "name": "python",
   "nbconvert_exporter": "python",
   "pygments_lexer": "ipython3",
   "version": "3.6.6"
  }
 },
 "nbformat": 4,
 "nbformat_minor": 2
}
