{
 "cells": [
  {
   "cell_type": "code",
   "execution_count": null,
   "metadata": {},
   "outputs": [],
   "source": [
    "# k nearest neighbours implementation\n",
    "\n",
    "k = 10\n",
    "top_k_accuracies_rank = np.zeros((query_labels.shape[0],k))\n",
    "top_k_accuracies_classical = np.zeros((query_labels.shape[0],k))\n",
    "top_k_accuracies_recall = np.zeros((query_labels.shape[0],k))\n",
    "\n",
    "nbrs = NearestNeighbors(n_neighbors=20).fit(gallery_feat)\n",
    "distances, indices = nbrs.kneighbors(query_feat)\n",
    "\n",
    "# Indices contains indices of the closes gallery pictures to each query image\n",
    "\n",
    "# Select the images where camId and label not the same as of the query image\n",
    "# Take top k of them\n",
    "\n",
    "for i in range (0, query_labels.shape[0], 1):\n",
    "    selected_indices = np.logical_not(np.logical_and(gallery_camId[indices[i, :]] == query_camId[i], gallery_labels[indices[i,:]] == query_labels[i]))\n",
    "    number_of_removed = np.sum(np.logical_and(gallery_camId == query_camId[i], gallery_labels == query_labels[i]))\n",
    "    removed_indices = indices [i, selected_indices]\n",
    "    is_same_label = (query_labels[i] == gallery_labels[removed_indices])\n",
    "    \n",
    "    for j in range (0, k, 1):\n",
    "        top_k_accuracies_rank[i,j] = np.sum(is_same_label[:(j+1)]) != 0\n",
    "        top_k_accuracies_classical[i,j]=np.sum(is_same_label[:(j+1)])/(j+1)\n",
    "        top_k_accuracies_recall[i,j] = np.sum(is_same_label[:(j+1)])/(np.sum(gallery_labels==query_labels[i])-number_of_removed)\n",
    "\n",
    "print (top_k_accuracies_rank[:, 0].mean())\n",
    "print (top_k_accuracies_classical[:, 0].mean())\n",
    "print (top_k_accuracies_recall[:, 0].mean())\n",
    "print (top_k_accuracies_rank[:, 0].mean())\n",
    "print (top_k_accuracies_rank[:, 4].mean())\n",
    "print (top_k_accuracies_rank[:, 9].mean())"
   ]
  }
 ],
 "metadata": {
  "kernelspec": {
   "display_name": "Python 3",
   "language": "python",
   "name": "python3"
  },
  "language_info": {
   "codemirror_mode": {
    "name": "ipython",
    "version": 3
   },
   "file_extension": ".py",
   "mimetype": "text/x-python",
   "name": "python",
   "nbconvert_exporter": "python",
   "pygments_lexer": "ipython3",
   "version": "3.6.6"
  }
 },
 "nbformat": 4,
 "nbformat_minor": 2
}
